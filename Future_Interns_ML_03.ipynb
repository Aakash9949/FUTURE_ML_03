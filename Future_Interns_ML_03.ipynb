{
  "nbformat": 4,
  "nbformat_minor": 0,
  "metadata": {
    "colab": {
      "provenance": []
    },
    "kernelspec": {
      "name": "python3",
      "display_name": "Python 3"
    },
    "language_info": {
      "name": "python"
    }
  },
  "cells": [
    {
      "cell_type": "code",
      "source": [
        "import random\n",
        "\n",
        "intents = {\n",
        "    \"greeting\": {\n",
        "        \"patterns\": [\"hello\", \"hi\", \"hey\", \"good morning\", \"good evening\"],\n",
        "        \"responses\": [\"Hello! How can I assist you today?\", \"Hi there! Need help?\", \"Hey! How can I help you?\"]\n",
        "    },\n",
        "    \"order_status\": {\n",
        "        \"patterns\": [\"where is my order\", \"track order\", \"order status\", \"delivery status\"],\n",
        "        \"responses\": [\"You can track your order using this link: www.amazon.com/track\"]\n",
        "    },\n",
        "    \"return_policy\": {\n",
        "        \"patterns\": [\"return policy\", \"how to return\", \"can I return\", \"product return\"],\n",
        "        \"responses\": [\"Our return policy lasts 30 days. You can initiate a return at www.example.com/returns\"]\n",
        "    },\n",
        "    \"goodbye\": {\n",
        "        \"patterns\": [\"bye\", \"goodbye\", \"see you\", \"talk to you later\"],\n",
        "        \"responses\": [\"Thanks for contacting us. Have a great day!\", \"Goodbye! Feel free to ask if you need anything else.\"]\n",
        "    },\n",
        "    \"unknown\": {\n",
        "        \"responses\": [\"I'm sorry, I didn't understand that. Can you rephrase your question?\",\n",
        "                      \"Hmm, I’m not sure about that. You can contact support at help@example.com.\"]\n",
        "    }\n",
        "}\n",
        "\n",
        "def get_response(user_input):\n",
        "    user_input = user_input.lower()\n",
        "    for intent, intent_data in intents.items():\n",
        "        if intent == \"unknown\":\n",
        "            continue\n",
        "        for pattern in intent_data[\"patterns\"]:\n",
        "            if pattern in user_input:\n",
        "                return random.choice(intent_data[\"responses\"])\n",
        "    return random.choice(intents[\"unknown\"][\"responses\"])\n",
        "\n",
        "def run_chatbot():\n",
        "    print(\"Chatbot: Hello! Ask me anything related to your order or returns.\")\n",
        "    while True:\n",
        "        user_input = input(\"You: \")\n",
        "        if user_input.lower() in [\"exit\", \"quit\"]:\n",
        "            print(\"Chatbot: Bye! Have a nice day.\")\n",
        "            break\n",
        "        response = get_response(user_input)\n",
        "        print(\"Chatbot:\", response)\n",
        "\n",
        "run_chatbot()"
      ],
      "metadata": {
        "colab": {
          "base_uri": "https://localhost:8080/"
        },
        "id": "8PtiJYrBbpdK",
        "outputId": "7255e63d-0f9c-43b9-f9cf-79d7d062d6ea"
      },
      "execution_count": 8,
      "outputs": [
        {
          "output_type": "stream",
          "name": "stdout",
          "text": [
            "Chatbot: Hello! Ask me anything related to your order or returns.\n",
            "You: hi\n",
            "Chatbot: Hi there! Need help?\n",
            "You: where is my order\n",
            "Chatbot: You can track your order using this link: www.amazon.com/track\n",
            "You: exit\n",
            "Chatbot: Bye! Have a nice day.\n"
          ]
        }
      ]
    }
  ]
}